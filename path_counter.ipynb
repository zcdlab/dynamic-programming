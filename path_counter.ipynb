{
 "cells": [
  {
   "cell_type": "markdown",
   "metadata": {},
   "source": [
    "# Path Counter"
   ]
  },
  {
   "cell_type": "markdown",
   "metadata": {},
   "source": [
    "![path](path_counter.png)"
   ]
  },
  {
   "cell_type": "code",
   "execution_count": 123,
   "metadata": {},
   "outputs": [],
   "source": [
    "import time"
   ]
  },
  {
   "cell_type": "code",
   "execution_count": 124,
   "metadata": {},
   "outputs": [],
   "source": [
    "def printer(path_map=[[]]):\n",
    "    for row in path_map:\n",
    "        print('  '.join([str(elem) for elem in row]))"
   ]
  },
  {
   "cell_type": "code",
   "execution_count": 125,
   "metadata": {},
   "outputs": [],
   "source": [
    "def define_map(row, column, blocks=[]):\n",
    "    path_map = [[0] * column for r in range(row)]\n",
    "    \n",
    "    for block in blocks:\n",
    "        path_map[block[0]][block[1]] = 'N'\n",
    "    \n",
    "    return path_map"
   ]
  },
  {
   "cell_type": "code",
   "execution_count": 126,
   "metadata": {},
   "outputs": [],
   "source": [
    "def path_counter(row, column, path_map=[[]]):\n",
    "    n_grid_path = 0\n",
    "    n_right_path = 0\n",
    "    n_down_path = 0\n",
    "    # Edges of map\n",
    "    if(row == len(path_map)-1 and column == len(path_map[0])-1):\n",
    "        path_map[row][column] = 1\n",
    "        n_grid_path = 1\n",
    "\n",
    "    # Blocks\n",
    "    if(row != len(path_map)-1 and path_map[row+1][column] != 'N'):\n",
    "        n_down_path = path_counter(row+1, column, path_map)[0]\n",
    "    \n",
    "    if(column != len(path_map[0])-1 and path_map[row][column+1] != 'N'):\n",
    "        n_right_path = path_counter(row, column+1, path_map)[0]\n",
    "    \n",
    "    if(n_grid_path == 0):\n",
    "        n_grid_path = n_right_path + n_down_path\n",
    "        \n",
    "    path_map[row][column] = n_grid_path\n",
    "    return (n_grid_path, path_map)"
   ]
  },
  {
   "cell_type": "code",
   "execution_count": 127,
   "metadata": {},
   "outputs": [],
   "source": [
    "def path_counter_with_memory(row, column, path_map=[[]]):\n",
    "    n_grid_path = 0\n",
    "    n_right_path = 0\n",
    "    n_down_path = 0\n",
    "    \n",
    "    if(path_map[row][column] != 'N' and path_map[row][column] != 0):\n",
    "        return (path_map[row][column], path_map)\n",
    "    \n",
    "    # Edges of map\n",
    "    if(row == len(path_map)-1 and column == len(path_map[0])-1):\n",
    "        path_map[row][column] = 1\n",
    "        n_grid_path = 1\n",
    "\n",
    "    # Blocks\n",
    "    if(row != len(path_map)-1 and path_map[row+1][column] != 'N'):\n",
    "        n_down_path = path_counter_with_memory(row+1, column, path_map)[0]\n",
    "    \n",
    "    if(column != len(path_map[0])-1 and path_map[row][column+1] != 'N'):\n",
    "        n_right_path = path_counter_with_memory(row, column+1, path_map)[0]\n",
    "    \n",
    "    if(n_grid_path == 0):\n",
    "        n_grid_path = n_right_path + n_down_path\n",
    "        \n",
    "    path_map[row][column] = n_grid_path\n",
    "    return (n_grid_path, path_map)"
   ]
  },
  {
   "cell_type": "code",
   "execution_count": 128,
   "metadata": {},
   "outputs": [],
   "source": [
    "def no_block(row, column, verbose=False):\n",
    "    t_start = time.time()\n",
    "    print(\"----------------------NO BLOCK----------------------\")    \n",
    "    path_map = define_map(row, column)\n",
    "    n_path, final_map = path_counter(0, 0, path_map)\n",
    "    \n",
    "    if(verbose):\n",
    "        printer(path_map)\n",
    "        print(n_path)\n",
    "        printer(final_map)\n",
    "    \n",
    "    t_end = time.time()\n",
    "    print(\"Time: %f\" %(t_end - t_start))"
   ]
  },
  {
   "cell_type": "code",
   "execution_count": 129,
   "metadata": {},
   "outputs": [],
   "source": [
    "def has_block(row, column, blocks=[], verbose=False):\n",
    "    t_start = time.time()\n",
    "    print(\"----------------------HAVE BLOCKS----------------------\")\n",
    "    path_map = define_map(row, column, blocks)\n",
    "    n_path, final_map = path_counter(0, 0, path_map)\n",
    "    \n",
    "    if(verbose):\n",
    "        printer(path_map)\n",
    "        print(n_path)\n",
    "        printer(final_map)\n",
    "    \n",
    "    t_end = time.time()\n",
    "    print(\"Time: %f\" %(t_end - t_start))"
   ]
  },
  {
   "cell_type": "code",
   "execution_count": 130,
   "metadata": {},
   "outputs": [],
   "source": [
    "def no_block_with_memory(row, column, verbose=False):\n",
    "    t_start = time.time()\n",
    "    print(\"----------------------NO BLOCK with Memory----------------------\")\n",
    "    path_map = define_map(row, column)\n",
    "    n_path, final_map = path_counter_with_memory(0, 0, path_map)\n",
    "    \n",
    "    if(verbose):\n",
    "        printer(path_map)\n",
    "        print(n_path)\n",
    "        printer(final_map)\n",
    "    \n",
    "    t_end = time.time()\n",
    "    print(\"Time: %f\" %(t_end - t_start))"
   ]
  },
  {
   "cell_type": "code",
   "execution_count": 131,
   "metadata": {},
   "outputs": [],
   "source": [
    "def has_block_with_memory(row, column, blocks=[], verbose=False):\n",
    "    t_start = time.time()\n",
    "    print(\"----------------------HAVE BLOCKS with Memory----------------------\")\n",
    "    path_map = define_map(row, column, blocks)\n",
    "    n_path, final_map = path_counter_with_memory(0, 0, path_map)\n",
    "    \n",
    "    if(verbose):\n",
    "        printer(path_map)\n",
    "        print(n_path)\n",
    "        printer(final_map)\n",
    "    \n",
    "    t_end = time.time()\n",
    "    print(\"Time: %f\" %(t_end - t_start))"
   ]
  },
  {
   "cell_type": "code",
   "execution_count": 133,
   "metadata": {},
   "outputs": [
    {
     "name": "stdout",
     "output_type": "stream",
     "text": [
      "----------------------NO BLOCK----------------------\n",
      "Time: 0.011232\n",
      "----------------------HAVE BLOCKS----------------------\n",
      "Time: 0.000500\n",
      "----------------------NO BLOCK with Memory----------------------\n",
      "Time: 0.014574\n",
      "----------------------HAVE BLOCKS with Memory----------------------\n",
      "Time: 0.013848\n"
     ]
    }
   ],
   "source": [
    "if __name__ == '__main__':\n",
    "    ROW, COLUMN = 8, 8\n",
    "    LARGE_ROW, LARGE_COLUMN = 100, 100\n",
    "    \n",
    "    no_block(ROW, COLUMN, verbose=False)\n",
    "    has_block(ROW, COLUMN, [[1, 2], [1, 6], [2, 4], [3, 0], [3, 2], [3, 5], [4, 2], [5, 3], [5, 4], [5, 6], [6, 1], [6, 5]], verbose=False)\n",
    "    no_block_with_memory(LARGE_ROW, LARGE_COLUMN, verbose=False)\n",
    "    has_block_with_memory(LARGE_ROW, LARGE_COLUMN, [[1, 2], [1, 6], [2, 4], [3, 0], [3, 2], [3, 5], [4, 2], [5, 3], [5, 4], [5, 6], [6, 1], [6, 5]], verbose=False)"
   ]
  }
 ],
 "metadata": {
  "kernelspec": {
   "display_name": "Python 3",
   "language": "python",
   "name": "python3"
  },
  "language_info": {
   "codemirror_mode": {
    "name": "ipython",
    "version": 3
   },
   "file_extension": ".py",
   "mimetype": "text/x-python",
   "name": "python",
   "nbconvert_exporter": "python",
   "pygments_lexer": "ipython3",
   "version": "3.6.4"
  }
 },
 "nbformat": 4,
 "nbformat_minor": 2
}
